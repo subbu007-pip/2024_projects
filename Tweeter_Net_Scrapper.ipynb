{
 "cells": [
  {
   "cell_type": "code",
   "execution_count": null,
   "id": "e266511a",
   "metadata": {},
   "outputs": [],
   "source": [
    "import pandas as pd\n",
    "from ntscraper import Nitter\n",
    "\n",
    "def Tweeter_scarpy(lis):\n",
    "    for tweet in  tweets['tweets']:\n",
    "        tweets_list=[tweet['link'],tweet['user']['name'],tweet['user'][\"username\"], tweet['text'],tweet['user'][\"profile_id\"],tweet['date']]\n",
    "        lis.append(tweets_list)\n",
    "        df=pd.DataFrame(lis,['link','user_name','username','text','profile_id','date'])\n",
    "    \n",
    "    return df\n",
    "\n",
    "\n",
    "if __name__=='__main__':\n",
    "    scrapper=Nitter()\n",
    "    new_list=[]\n",
    "    name=input(\"Enter the Tweet user_name:\")\n",
    "    mode=input(\"Please Enter the modes('user or hashtag'):\")\n",
    "    number=input(\"please Enter number tweet you want to retrive:\")\n",
    "    try:\n",
    "        tweets=scrapper.get_tweets(name,mode,number)\n",
    "    except Exception as E:\n",
    "        print(E)\n",
    "    \n",
    "    Tweeter_scarpy(tweets,new_list)\n"
   ]
  },
  {
   "cell_type": "code",
   "execution_count": null,
   "id": "e110ad85",
   "metadata": {},
   "outputs": [],
   "source": []
  },
  {
   "cell_type": "code",
   "execution_count": null,
   "id": "77c9c31e",
   "metadata": {},
   "outputs": [],
   "source": []
  },
  {
   "cell_type": "code",
   "execution_count": null,
   "id": "aec60f9d",
   "metadata": {},
   "outputs": [],
   "source": []
  },
  {
   "cell_type": "code",
   "execution_count": null,
   "id": "5c94cccc",
   "metadata": {},
   "outputs": [],
   "source": []
  },
  {
   "cell_type": "code",
   "execution_count": null,
   "id": "09d11409",
   "metadata": {},
   "outputs": [],
   "source": []
  }
 ],
 "metadata": {
  "kernelspec": {
   "display_name": "Python 3 (ipykernel)",
   "language": "python",
   "name": "python3"
  },
  "language_info": {
   "codemirror_mode": {
    "name": "ipython",
    "version": 3
   },
   "file_extension": ".py",
   "mimetype": "text/x-python",
   "name": "python",
   "nbconvert_exporter": "python",
   "pygments_lexer": "ipython3",
   "version": "3.11.5"
  }
 },
 "nbformat": 4,
 "nbformat_minor": 5
}
